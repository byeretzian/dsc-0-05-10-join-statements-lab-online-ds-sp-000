{
 "cells": [
  {
   "cell_type": "markdown",
   "metadata": {},
   "source": [
    "# Join Statements"
   ]
  },
  {
   "cell_type": "markdown",
   "metadata": {},
   "source": [
    "## Introduction"
   ]
  },
  {
   "cell_type": "markdown",
   "metadata": {},
   "source": [
    "In this lab, you'll practice your knowledge on Join statements."
   ]
  },
  {
   "cell_type": "markdown",
   "metadata": {},
   "source": [
    "## Objectives"
   ]
  },
  {
   "cell_type": "markdown",
   "metadata": {},
   "source": [
    "You will be able to:\n",
    "- Write queries that make use of various types of Joins\n",
    "- Join tables using foreign keys"
   ]
  },
  {
   "cell_type": "markdown",
   "metadata": {},
   "source": [
    "## CRM Schema\n",
    "\n",
    "In almost all cases, rather then just working with a single table we will typically need data from multiple tables. \n",
    "Doing this requires the use of **joins ** using shared columns from the two tables. \n",
    "\n",
    "In this lab, we'll use the same Customer Relationship Management (CRM) database we used in our lecture before!\n",
    "<img src='Database-Schema.png' width=550>"
   ]
  },
  {
   "cell_type": "markdown",
   "metadata": {},
   "source": [
    "## Connecting to the Database\n",
    "Import the necessary packages and connect to the database **data.sqlite**."
   ]
  },
  {
   "cell_type": "code",
   "execution_count": 3,
   "metadata": {},
   "outputs": [],
   "source": [
    "#Your code here\n",
    "import sqlite3\n",
    "import pandas as pd\n",
    "conn = sqlite3.connect('data.sqlite', detect_types=sqlite3.PARSE_COLNAMES)\n",
    "cur = conn.cursor()\n"
   ]
  },
  {
   "cell_type": "markdown",
   "metadata": {},
   "source": [
    "## Display the names of all the employees in Boston."
   ]
  },
  {
   "cell_type": "code",
   "execution_count": 4,
   "metadata": {},
   "outputs": [
    {
     "data": {
      "text/plain": [
       "[('Diane',),\n",
       " ('Mary',),\n",
       " ('Jeff',),\n",
       " ('William',),\n",
       " ('Gerard',),\n",
       " ('Anthony',),\n",
       " ('Leslie',),\n",
       " ('Leslie',),\n",
       " ('Julie',),\n",
       " ('Steve',),\n",
       " ('Foon Yue',),\n",
       " ('George',),\n",
       " ('Loui',),\n",
       " ('Gerard',),\n",
       " ('Pamela',),\n",
       " ('Larry',),\n",
       " ('Barry',),\n",
       " ('Andy',),\n",
       " ('Peter',),\n",
       " ('Tom',),\n",
       " ('Mami',),\n",
       " ('Yoshimi',),\n",
       " ('Martin',)]"
      ]
     },
     "execution_count": 4,
     "metadata": {},
     "output_type": "execute_result"
    }
   ],
   "source": [
    "cur.execute('''SELECT firstName FROM employees\n",
    "                JOIN offices WHERE city = 'Boston' ''').fetchall()"
   ]
  },
  {
   "cell_type": "markdown",
   "metadata": {},
   "source": [
    "## Do any offices have no employees?"
   ]
  },
  {
   "cell_type": "code",
   "execution_count": 5,
   "metadata": {},
   "outputs": [
    {
     "data": {
      "text/plain": [
       "[]"
      ]
     },
     "execution_count": 5,
     "metadata": {},
     "output_type": "execute_result"
    }
   ],
   "source": [
    "#cur.execute('''SELECT * FROM offices ;''').fetchall()\n",
    "cur.execute(\"\"\"select * from offices\n",
    "                        join employees\n",
    "                        where employeeNumber IS NULL;\n",
    "                       \"\"\").fetchall()\n",
    "# no?"
   ]
  },
  {
   "cell_type": "markdown",
   "metadata": {},
   "source": [
    "## Write 3 Questions of your own and answer them"
   ]
  },
  {
   "cell_type": "code",
   "execution_count": null,
   "metadata": {},
   "outputs": [],
   "source": [
    "# Answers will vary"
   ]
  },
  {
   "cell_type": "code",
   "execution_count": 10,
   "metadata": {},
   "outputs": [
    {
     "data": {
      "text/plain": [
       "54.395181818181825"
      ]
     },
     "execution_count": 10,
     "metadata": {},
     "output_type": "execute_result"
    }
   ],
   "source": [
    "# What is the mean buyPrice\n",
    "cur.execute(\"\"\"select * from products;\"\"\")\n",
    "df = pd.DataFrame(cur.fetchall()) #Take results and create dataframe\n",
    "df. columns = [i[0] for i in cur.description]\n",
    "df['buyPrice'] = df.buyPrice.astype('float')\n",
    "df.buyPrice.mean()"
   ]
  },
  {
   "cell_type": "code",
   "execution_count": 15,
   "metadata": {},
   "outputs": [
    {
     "data": {
      "text/plain": [
       "Sydney           23\n",
       "Paris            23\n",
       "Tokyo            23\n",
       "London           23\n",
       "Boston           23\n",
       "San Francisco    23\n",
       "NYC              23\n",
       "Name: city, dtype: int64"
      ]
     },
     "execution_count": 15,
     "metadata": {},
     "output_type": "execute_result"
    }
   ],
   "source": [
    "# How many employees are in New York\n",
    "cur.execute('''SELECT * FROM employees\n",
    "                JOIN offices ''')\n",
    "df = pd.DataFrame(cur.fetchall()) #Take results and create dataframe\n",
    "df. columns = [i[0] for i in cur.description]\n",
    "df.head()\n",
    "df['city'].value_counts()"
   ]
  },
  {
   "cell_type": "code",
   "execution_count": 18,
   "metadata": {},
   "outputs": [
    {
     "data": {
      "text/plain": [
       "array(['1969 Harley Davidson Ultimate Chopper',\n",
       "       '1952 Alpine Renault 1300', '1996 Moto Guzzi 1100i',\n",
       "       '2003 Harley-Davidson Eagle Drag Bike', '1972 Alfa Romeo GTA',\n",
       "       '1962 LanciaA Delta 16V', '1968 Ford Mustang', '2001 Ferrari Enzo',\n",
       "       '1958 Setra Bus', '2002 Suzuki XREO', '1969 Corvair Monza',\n",
       "       '1968 Dodge Charger', '1969 Ford Falcon',\n",
       "       '1970 Plymouth Hemi Cuda', '1957 Chevy Pickup',\n",
       "       '1969 Dodge Charger', '1940 Ford Pickup Truck', '1993 Mazda RX-7',\n",
       "       '1937 Lincoln Berline', '1936 Mercedes-Benz 500K Special Roadster',\n",
       "       '1965 Aston Martin DB5', '1980s Black Hawk Helicopter',\n",
       "       '1917 Grand Touring Sedan', '1948 Porsche 356-A Roadster',\n",
       "       '1995 Honda Civic', '1998 Chrysler Plymouth Prowler',\n",
       "       '1911 Ford Town Car', '1964 Mercedes Tour Bus',\n",
       "       '1932 Model A Ford J-Coupe', '1926 Ford Fire Engine',\n",
       "       'P-51-D Mustang', '1936 Harley Davidson El Knucklehead',\n",
       "       '1928 Mercedes-Benz SSK', '1999 Indy 500 Monte Carlo SS',\n",
       "       '1913 Ford Model T Speedster', '1934 Ford V8 Coupe',\n",
       "       '1999 Yamaha Speed Boat', '18th Century Vintage Horse Carriage',\n",
       "       '1903 Ford Model A', '1992 Ferrari 360 Spider red',\n",
       "       '1985 Toyota Supra', 'Collectable Wooden Train',\n",
       "       '1969 Dodge Super Bee', '1917 Maxwell Touring Car',\n",
       "       '1976 Ford Gran Torino', '1948 Porsche Type 356 Roadster',\n",
       "       '1957 Vespa GS150', '1941 Chevrolet Special Deluxe Cabriolet',\n",
       "       '1970 Triumph Spitfire', '1932 Alfa Romeo 8C2300 Spider Sport',\n",
       "       '1904 Buick Runabout', '1940s Ford truck',\n",
       "       '1939 Cadillac Limousine', '1957 Corvette Convertible',\n",
       "       '1957 Ford Thunderbird', '1970 Chevy Chevelle SS 454',\n",
       "       '1970 Dodge Coronet', '1997 BMW R 1100 S',\n",
       "       '1966 Shelby Cobra 427 S/C', '1928 British Royal Navy Airplane',\n",
       "       '1939 Chevrolet Deluxe Coupe', '1960 BSA Gold Star DBD34',\n",
       "       '18th century schooner',\n",
       "       '1938 Cadillac V-16 Presidential Limousine',\n",
       "       '1962 Volkswagen Microbus', '1982 Ducati 900 Monster',\n",
       "       '1949 Jaguar XK 120', '1958 Chevy Corvette Limited Edition',\n",
       "       '1900s Vintage Bi-Plane', '1952 Citroen-15CV',\n",
       "       '1982 Lamborghini Diablo', '1912 Ford Model T Delivery Wagon',\n",
       "       '1969 Chevrolet Camaro Z28', '1971 Alpine Renault 1600s',\n",
       "       '1937 Horch 930V Limousine', '2002 Chevy Corvette',\n",
       "       '1940 Ford Delivery Sedan', '1956 Porsche 356A Coupe',\n",
       "       'Corsair F4U ( Bird Cage)', '1936 Mercedes Benz 500k Roadster',\n",
       "       '1992 Porsche Cayenne Turbo Silver', '1936 Chrysler Airflow',\n",
       "       '1900s Vintage Tri-Plane', '1961 Chevrolet Impala',\n",
       "       '1980’s GM Manhattan Express', '1997 BMW F650 ST',\n",
       "       '1982 Ducati 996 R', '1954 Greyhound Scenicruiser',\n",
       "       \"1950's Chicago Surface Lines Streetcar\",\n",
       "       '1996 Peterbilt 379 Stake Bed with Outrigger',\n",
       "       '1928 Ford Phaeton Deluxe', '1974 Ducati 350 Mk3 Desmo',\n",
       "       '1930 Buick Marquette Phaeton', 'Diamond T620 Semi-Skirted Tanker',\n",
       "       '1962 City of Detroit Streetcar', '2002 Yamaha YZR M1',\n",
       "       'The Schooner Bluenose', 'American Airlines: B767-300',\n",
       "       'The Mayflower', 'HMS Bounty', 'America West Airlines B757-200',\n",
       "       'The USS Constitution Ship', '1982 Camaro Z28', 'ATA: B757-300',\n",
       "       'F/A 18 Hornet 1/72', 'The Titanic', 'The Queen Mary',\n",
       "       'American Airlines: MD-11S', 'Boeing X-32A JSF', 'Pont Yacht'],\n",
       "      dtype=object)"
      ]
     },
     "execution_count": 18,
     "metadata": {},
     "output_type": "execute_result"
    }
   ],
   "source": [
    "# How many unique products are sold\n",
    "cur.execute('''SELECT * FROM productlines\n",
    "                JOIN products ''')\n",
    "df = pd.DataFrame(cur.fetchall()) #Take results and create dataframe\n",
    "df. columns = [i[0] for i in cur.description]\n",
    "df.head()\n",
    "df['productName'].unique()"
   ]
  },
  {
   "cell_type": "markdown",
   "metadata": {},
   "source": [
    "## Level Up: Display the names of each product each employee has sold."
   ]
  },
  {
   "cell_type": "code",
   "execution_count": null,
   "metadata": {},
   "outputs": [],
   "source": [
    "# Your code here"
   ]
  },
  {
   "cell_type": "markdown",
   "metadata": {},
   "source": [
    "## Level Up: Display the Number of Products each Employee Has sold"
   ]
  },
  {
   "cell_type": "code",
   "execution_count": null,
   "metadata": {},
   "outputs": [],
   "source": [
    "#Your code here"
   ]
  },
  {
   "cell_type": "markdown",
   "metadata": {},
   "source": [
    "## Summary"
   ]
  },
  {
   "cell_type": "markdown",
   "metadata": {},
   "source": [
    "Congrats! You now know how to use Join statements, along with leveraging your foreign keys knowledge!"
   ]
  }
 ],
 "metadata": {
  "kernelspec": {
   "display_name": "Python 3",
   "language": "python",
   "name": "python3"
  },
  "language_info": {
   "codemirror_mode": {
    "name": "ipython",
    "version": 3
   },
   "file_extension": ".py",
   "mimetype": "text/x-python",
   "name": "python",
   "nbconvert_exporter": "python",
   "pygments_lexer": "ipython3",
   "version": "3.6.4"
  }
 },
 "nbformat": 4,
 "nbformat_minor": 2
}
